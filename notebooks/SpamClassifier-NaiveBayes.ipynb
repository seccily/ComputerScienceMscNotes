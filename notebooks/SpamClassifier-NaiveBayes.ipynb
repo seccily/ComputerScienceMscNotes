{
  "nbformat": 4,
  "nbformat_minor": 0,
  "metadata": {
    "colab": {
      "provenance": [],
      "collapsed_sections": [
        "2pbTzi6gym8O",
        "eDe8A6XSyqWN",
        "scWjobfky8Ot"
      ]
    },
    "kernelspec": {
      "name": "python3",
      "display_name": "Python 3"
    },
    "language_info": {
      "name": "python"
    }
  },
  "cells": [
    {
      "cell_type": "markdown",
      "source": [
        "## Mount Google Drive"
      ],
      "metadata": {
        "id": "2pbTzi6gym8O"
      }
    },
    {
      "cell_type": "code",
      "source": [
        "from google.colab import drive\n",
        "drive.mount('/content/drive')"
      ],
      "metadata": {
        "colab": {
          "base_uri": "https://localhost:8080/"
        },
        "id": "Q6rXDJmfiQHt",
        "outputId": "97b1c37c-d69f-48bb-ffc0-55ea3d41bc61"
      },
      "execution_count": null,
      "outputs": [
        {
          "output_type": "stream",
          "name": "stdout",
          "text": [
            "Mounted at /content/drive\n"
          ]
        }
      ]
    },
    {
      "cell_type": "markdown",
      "source": [
        "## Imports"
      ],
      "metadata": {
        "id": "eDe8A6XSyqWN"
      }
    },
    {
      "cell_type": "code",
      "execution_count": null,
      "metadata": {
        "id": "vjUIPeqbOYLd"
      },
      "outputs": [],
      "source": [
        "import pandas as pd\n",
        "import numpy as np\n",
        "import math\n",
        "\n",
        "from tqdm import tqdm\n",
        "\n",
        "from sklearn.metrics import confusion_matrix, classification_report\n",
        "import seaborn as sns\n",
        "import matplotlib.pyplot as plt"
      ]
    },
    {
      "cell_type": "markdown",
      "source": [
        "## Read & prepare the dataset"
      ],
      "metadata": {
        "id": "HKzgfRtyysLn"
      }
    },
    {
      "cell_type": "markdown",
      "source": [
        "### read the data"
      ],
      "metadata": {
        "id": "yvII1wjhy2r7"
      }
    },
    {
      "cell_type": "markdown",
      "source": [
        "paths of the dataset files:"
      ],
      "metadata": {
        "id": "2MkHgxzRzCjk"
      }
    },
    {
      "cell_type": "code",
      "source": [
        "#root_path = '/content/drive/MyDrive/courses/cs512-machine_learning/Homeworks/homework1/hw1_data_emails/hw2_data_emails/'\n",
        "root_path = './hw1_data_emails/hw2_data_emails/'\n",
        "test_feature_path = \"test-features.txt\"\n",
        "train_feature_path = \"train-features.txt\"\n",
        "test_label_path = \"test-labels.txt\"\n",
        "train_label_path = \"train-labels.txt\""
      ],
      "metadata": {
        "id": "yai9Vk9yy3Uh"
      },
      "execution_count": null,
      "outputs": []
    },
    {
      "cell_type": "code",
      "source": [
        "def read_file(path:str):\n",
        "  with open(path) as f:\n",
        "    data = pd.read_csv(path, sep=\" \", header=None)\n",
        "  return data\n",
        "\n",
        "test_features = read_file(root_path + test_feature_path)\n",
        "train_features = read_file(root_path + train_feature_path)\n",
        "test_labels = read_file(root_path + test_label_path)\n",
        "train_labels = read_file(root_path + train_label_path)\n",
        "\n",
        "test_labels.columns = train_labels.columns = [\"y\"]\n",
        "\n",
        "train_dataset = pd.concat([train_features, train_labels], axis=1)\n",
        "test_dataset = pd.concat([test_features, test_labels], axis=1)"
      ],
      "metadata": {
        "id": "PbitrX6yi6By"
      },
      "execution_count": null,
      "outputs": []
    },
    {
      "cell_type": "markdown",
      "source": [
        "### preprocess & examination"
      ],
      "metadata": {
        "id": "scWjobfky8Ot"
      }
    },
    {
      "cell_type": "markdown",
      "source": [
        "Checking for the lengths of the feature vectors."
      ],
      "metadata": {
        "id": "p8K-Ky4FzzTO"
      }
    },
    {
      "cell_type": "code",
      "source": [
        "train_dataset.head()"
      ],
      "metadata": {
        "colab": {
          "base_uri": "https://localhost:8080/"
        },
        "id": "UhxfQNo5B1Qh",
        "outputId": "126402c3-4c55-44f9-f187-2267fff4deca"
      },
      "execution_count": null,
      "outputs": [
        {
          "output_type": "execute_result",
          "data": {
            "text/plain": [
              "   0  1  2  3  4  5  6  7  8  9  ...  2491  2492  2493  2494  2495  2496  \\\n",
              "0  0  0  0  0  0  0  0  0  0  0  ...     0     0     0     0     0     0   \n",
              "1  0  0  0  0  0  0  0  0  0  0  ...     0     0     0     0     0     0   \n",
              "2  0  0  0  1  0  0  0  0  0  2  ...     0     0     0     0     0     0   \n",
              "3  0  0  0  0  0  0  0  0  0  0  ...     0     0     0     0     0     0   \n",
              "4  0  0  0  0  0  0  0  1  0  1  ...     0     0     0     0     0     0   \n",
              "\n",
              "   2497  2498  2499  y  \n",
              "0     0     0     0  0  \n",
              "1     0     0     0  0  \n",
              "2     0     0     0  0  \n",
              "3     0     0     0  0  \n",
              "4     0     0     0  0  \n",
              "\n",
              "[5 rows x 2501 columns]"
            ],
            "text/html": [
              "\n",
              "  <div id=\"df-e6a9e4c1-e185-4fe4-9fc0-0c32d258721c\">\n",
              "    <div class=\"colab-df-container\">\n",
              "      <div>\n",
              "<style scoped>\n",
              "    .dataframe tbody tr th:only-of-type {\n",
              "        vertical-align: middle;\n",
              "    }\n",
              "\n",
              "    .dataframe tbody tr th {\n",
              "        vertical-align: top;\n",
              "    }\n",
              "\n",
              "    .dataframe thead th {\n",
              "        text-align: right;\n",
              "    }\n",
              "</style>\n",
              "<table border=\"1\" class=\"dataframe\">\n",
              "  <thead>\n",
              "    <tr style=\"text-align: right;\">\n",
              "      <th></th>\n",
              "      <th>0</th>\n",
              "      <th>1</th>\n",
              "      <th>2</th>\n",
              "      <th>3</th>\n",
              "      <th>4</th>\n",
              "      <th>5</th>\n",
              "      <th>6</th>\n",
              "      <th>7</th>\n",
              "      <th>8</th>\n",
              "      <th>9</th>\n",
              "      <th>...</th>\n",
              "      <th>2491</th>\n",
              "      <th>2492</th>\n",
              "      <th>2493</th>\n",
              "      <th>2494</th>\n",
              "      <th>2495</th>\n",
              "      <th>2496</th>\n",
              "      <th>2497</th>\n",
              "      <th>2498</th>\n",
              "      <th>2499</th>\n",
              "      <th>y</th>\n",
              "    </tr>\n",
              "  </thead>\n",
              "  <tbody>\n",
              "    <tr>\n",
              "      <th>0</th>\n",
              "      <td>0</td>\n",
              "      <td>0</td>\n",
              "      <td>0</td>\n",
              "      <td>0</td>\n",
              "      <td>0</td>\n",
              "      <td>0</td>\n",
              "      <td>0</td>\n",
              "      <td>0</td>\n",
              "      <td>0</td>\n",
              "      <td>0</td>\n",
              "      <td>...</td>\n",
              "      <td>0</td>\n",
              "      <td>0</td>\n",
              "      <td>0</td>\n",
              "      <td>0</td>\n",
              "      <td>0</td>\n",
              "      <td>0</td>\n",
              "      <td>0</td>\n",
              "      <td>0</td>\n",
              "      <td>0</td>\n",
              "      <td>0</td>\n",
              "    </tr>\n",
              "    <tr>\n",
              "      <th>1</th>\n",
              "      <td>0</td>\n",
              "      <td>0</td>\n",
              "      <td>0</td>\n",
              "      <td>0</td>\n",
              "      <td>0</td>\n",
              "      <td>0</td>\n",
              "      <td>0</td>\n",
              "      <td>0</td>\n",
              "      <td>0</td>\n",
              "      <td>0</td>\n",
              "      <td>...</td>\n",
              "      <td>0</td>\n",
              "      <td>0</td>\n",
              "      <td>0</td>\n",
              "      <td>0</td>\n",
              "      <td>0</td>\n",
              "      <td>0</td>\n",
              "      <td>0</td>\n",
              "      <td>0</td>\n",
              "      <td>0</td>\n",
              "      <td>0</td>\n",
              "    </tr>\n",
              "    <tr>\n",
              "      <th>2</th>\n",
              "      <td>0</td>\n",
              "      <td>0</td>\n",
              "      <td>0</td>\n",
              "      <td>1</td>\n",
              "      <td>0</td>\n",
              "      <td>0</td>\n",
              "      <td>0</td>\n",
              "      <td>0</td>\n",
              "      <td>0</td>\n",
              "      <td>2</td>\n",
              "      <td>...</td>\n",
              "      <td>0</td>\n",
              "      <td>0</td>\n",
              "      <td>0</td>\n",
              "      <td>0</td>\n",
              "      <td>0</td>\n",
              "      <td>0</td>\n",
              "      <td>0</td>\n",
              "      <td>0</td>\n",
              "      <td>0</td>\n",
              "      <td>0</td>\n",
              "    </tr>\n",
              "    <tr>\n",
              "      <th>3</th>\n",
              "      <td>0</td>\n",
              "      <td>0</td>\n",
              "      <td>0</td>\n",
              "      <td>0</td>\n",
              "      <td>0</td>\n",
              "      <td>0</td>\n",
              "      <td>0</td>\n",
              "      <td>0</td>\n",
              "      <td>0</td>\n",
              "      <td>0</td>\n",
              "      <td>...</td>\n",
              "      <td>0</td>\n",
              "      <td>0</td>\n",
              "      <td>0</td>\n",
              "      <td>0</td>\n",
              "      <td>0</td>\n",
              "      <td>0</td>\n",
              "      <td>0</td>\n",
              "      <td>0</td>\n",
              "      <td>0</td>\n",
              "      <td>0</td>\n",
              "    </tr>\n",
              "    <tr>\n",
              "      <th>4</th>\n",
              "      <td>0</td>\n",
              "      <td>0</td>\n",
              "      <td>0</td>\n",
              "      <td>0</td>\n",
              "      <td>0</td>\n",
              "      <td>0</td>\n",
              "      <td>0</td>\n",
              "      <td>1</td>\n",
              "      <td>0</td>\n",
              "      <td>1</td>\n",
              "      <td>...</td>\n",
              "      <td>0</td>\n",
              "      <td>0</td>\n",
              "      <td>0</td>\n",
              "      <td>0</td>\n",
              "      <td>0</td>\n",
              "      <td>0</td>\n",
              "      <td>0</td>\n",
              "      <td>0</td>\n",
              "      <td>0</td>\n",
              "      <td>0</td>\n",
              "    </tr>\n",
              "  </tbody>\n",
              "</table>\n",
              "<p>5 rows × 2501 columns</p>\n",
              "</div>\n",
              "      <button class=\"colab-df-convert\" onclick=\"convertToInteractive('df-e6a9e4c1-e185-4fe4-9fc0-0c32d258721c')\"\n",
              "              title=\"Convert this dataframe to an interactive table.\"\n",
              "              style=\"display:none;\">\n",
              "        \n",
              "  <svg xmlns=\"http://www.w3.org/2000/svg\" height=\"24px\"viewBox=\"0 0 24 24\"\n",
              "       width=\"24px\">\n",
              "    <path d=\"M0 0h24v24H0V0z\" fill=\"none\"/>\n",
              "    <path d=\"M18.56 5.44l.94 2.06.94-2.06 2.06-.94-2.06-.94-.94-2.06-.94 2.06-2.06.94zm-11 1L8.5 8.5l.94-2.06 2.06-.94-2.06-.94L8.5 2.5l-.94 2.06-2.06.94zm10 10l.94 2.06.94-2.06 2.06-.94-2.06-.94-.94-2.06-.94 2.06-2.06.94z\"/><path d=\"M17.41 7.96l-1.37-1.37c-.4-.4-.92-.59-1.43-.59-.52 0-1.04.2-1.43.59L10.3 9.45l-7.72 7.72c-.78.78-.78 2.05 0 2.83L4 21.41c.39.39.9.59 1.41.59.51 0 1.02-.2 1.41-.59l7.78-7.78 2.81-2.81c.8-.78.8-2.07 0-2.86zM5.41 20L4 18.59l7.72-7.72 1.47 1.35L5.41 20z\"/>\n",
              "  </svg>\n",
              "      </button>\n",
              "      \n",
              "  <style>\n",
              "    .colab-df-container {\n",
              "      display:flex;\n",
              "      flex-wrap:wrap;\n",
              "      gap: 12px;\n",
              "    }\n",
              "\n",
              "    .colab-df-convert {\n",
              "      background-color: #E8F0FE;\n",
              "      border: none;\n",
              "      border-radius: 50%;\n",
              "      cursor: pointer;\n",
              "      display: none;\n",
              "      fill: #1967D2;\n",
              "      height: 32px;\n",
              "      padding: 0 0 0 0;\n",
              "      width: 32px;\n",
              "    }\n",
              "\n",
              "    .colab-df-convert:hover {\n",
              "      background-color: #E2EBFA;\n",
              "      box-shadow: 0px 1px 2px rgba(60, 64, 67, 0.3), 0px 1px 3px 1px rgba(60, 64, 67, 0.15);\n",
              "      fill: #174EA6;\n",
              "    }\n",
              "\n",
              "    [theme=dark] .colab-df-convert {\n",
              "      background-color: #3B4455;\n",
              "      fill: #D2E3FC;\n",
              "    }\n",
              "\n",
              "    [theme=dark] .colab-df-convert:hover {\n",
              "      background-color: #434B5C;\n",
              "      box-shadow: 0px 1px 3px 1px rgba(0, 0, 0, 0.15);\n",
              "      filter: drop-shadow(0px 1px 2px rgba(0, 0, 0, 0.3));\n",
              "      fill: #FFFFFF;\n",
              "    }\n",
              "  </style>\n",
              "\n",
              "      <script>\n",
              "        const buttonEl =\n",
              "          document.querySelector('#df-e6a9e4c1-e185-4fe4-9fc0-0c32d258721c button.colab-df-convert');\n",
              "        buttonEl.style.display =\n",
              "          google.colab.kernel.accessAllowed ? 'block' : 'none';\n",
              "\n",
              "        async function convertToInteractive(key) {\n",
              "          const element = document.querySelector('#df-e6a9e4c1-e185-4fe4-9fc0-0c32d258721c');\n",
              "          const dataTable =\n",
              "            await google.colab.kernel.invokeFunction('convertToInteractive',\n",
              "                                                     [key], {});\n",
              "          if (!dataTable) return;\n",
              "\n",
              "          const docLinkHtml = 'Like what you see? Visit the ' +\n",
              "            '<a target=\"_blank\" href=https://colab.research.google.com/notebooks/data_table.ipynb>data table notebook</a>'\n",
              "            + ' to learn more about interactive tables.';\n",
              "          element.innerHTML = '';\n",
              "          dataTable['output_type'] = 'display_data';\n",
              "          await google.colab.output.renderOutput(dataTable, element);\n",
              "          const docLink = document.createElement('div');\n",
              "          docLink.innerHTML = docLinkHtml;\n",
              "          element.appendChild(docLink);\n",
              "        }\n",
              "      </script>\n",
              "    </div>\n",
              "  </div>\n",
              "  "
            ]
          },
          "metadata": {},
          "execution_count": 5
        }
      ]
    },
    {
      "cell_type": "markdown",
      "source": [
        "checking for none values\n",
        "\n",
        "*(since there are lots of columns to check, I'm using set() to see if there are different values of count.)*"
      ],
      "metadata": {
        "id": "YwRQZSPzCKry"
      }
    },
    {
      "cell_type": "code",
      "source": [
        "print(\"count of none values in the given train data\", set(train_dataset.isna().sum()))\n",
        "print(\"count of none values in the given test data\", set(test_dataset.isna().sum()))"
      ],
      "metadata": {
        "colab": {
          "base_uri": "https://localhost:8080/"
        },
        "id": "pm1ngMTkqyAz",
        "outputId": "8ae320c5-f58c-49e7-97e9-4468386b8f7b"
      },
      "execution_count": null,
      "outputs": [
        {
          "output_type": "stream",
          "name": "stdout",
          "text": [
            "count of none values in the given train data {0}\n",
            "count of none values in the given test data {0}\n"
          ]
        }
      ]
    },
    {
      "cell_type": "markdown",
      "source": [
        "Question 3.1:\n",
        "---\n",
        "If the the ratio of the classes in a dataset is close to each other, it is a called “balanced” class distribution if not it is skewed. What is the percentage of spam emails in the train.labels.txt.\n",
        "Is the training set balanced or skewed towards a one of the classes?\n",
        "\n",
        "---"
      ],
      "metadata": {
        "id": "84vxBM6esQdU"
      }
    },
    {
      "cell_type": "code",
      "source": [
        "train_dataset[\"y\"].value_counts()"
      ],
      "metadata": {
        "colab": {
          "base_uri": "https://localhost:8080/"
        },
        "id": "40eh1t3Vr9hY",
        "outputId": "0f4f0bb5-0197-47d6-969a-34c86f27de96"
      },
      "execution_count": null,
      "outputs": [
        {
          "output_type": "execute_result",
          "data": {
            "text/plain": [
              "0    350\n",
              "1    350\n",
              "Name: y, dtype: int64"
            ]
          },
          "metadata": {},
          "execution_count": 7
        }
      ]
    },
    {
      "cell_type": "code",
      "source": [
        "dict(train_dataset[\"y\"].value_counts()).items()"
      ],
      "metadata": {
        "colab": {
          "base_uri": "https://localhost:8080/"
        },
        "id": "CYJw1YF6uwiX",
        "outputId": "c333a101-229e-411b-9f04-1fd64f9809e1"
      },
      "execution_count": null,
      "outputs": [
        {
          "output_type": "execute_result",
          "data": {
            "text/plain": [
              "dict_items([(0, 350), (1, 350)])"
            ]
          },
          "metadata": {},
          "execution_count": 8
        }
      ]
    },
    {
      "cell_type": "code",
      "source": [
        "classes = list(dict(train_dataset[\"y\"].value_counts()).keys())\n",
        "counts = list(dict(train_dataset[\"y\"].value_counts()).values())\n",
        "\n",
        "colors = [\"green\", \"red\"]"
      ],
      "metadata": {
        "id": "rtYzmLBCtx8L"
      },
      "execution_count": null,
      "outputs": []
    },
    {
      "cell_type": "code",
      "source": [
        "def func(pct, allvalues):\n",
        "    absolute = int(pct / 100.*np.sum(allvalues))\n",
        "    return \"{:.1f}%\\n({:d} sample)\".format(pct, absolute)\n",
        "\n",
        "# Creating plot\n",
        "fig, ax = plt.subplots(figsize =(10, 7))\n",
        "wedges, texts, autotexts = ax.pie(counts,\n",
        "                                  autopct = lambda pct: func(pct, counts),\n",
        "                                  labels = classes,\n",
        "                                  shadow = True,\n",
        "                                  colors = colors,\n",
        "                                  startangle = 90,\n",
        "                                  textprops = dict(color =\"black\"))\n",
        "\n",
        "# Adding legend\n",
        "ax.legend(wedges, classes,\n",
        "          title =\"classes\",\n",
        "          loc =\"center left\",\n",
        "          bbox_to_anchor =(1, 0, 0.5, 1))"
      ],
      "metadata": {
        "colab": {
          "base_uri": "https://localhost:8080/",
          "height": 428
        },
        "id": "z2KvpE8fsdut",
        "outputId": "26e2193d-a1ff-4420-e584-f6c5674c394d"
      },
      "execution_count": null,
      "outputs": [
        {
          "output_type": "execute_result",
          "data": {
            "text/plain": [
              "<matplotlib.legend.Legend at 0x7f5a0b28ac90>"
            ]
          },
          "metadata": {},
          "execution_count": 10
        },
        {
          "output_type": "display_data",
          "data": {
            "text/plain": [
              "<Figure size 720x504 with 1 Axes>"
            ],
            "image/png": "[encoded data removed]"
          },
          "metadata": {}
        }
      ]
    },
    {
      "cell_type": "markdown",
      "source": [
        "Since the sample counts of the classes are equal, training set is balanced."
      ],
      "metadata": {
        "id": "EiEbLV1HsUjT"
      }
    },
    {
      "cell_type": "markdown",
      "source": [
        "## Question 3.3\n",
        "\n",
        "Train a Naive Bayes classifier using all of the data in the training set (\n",
        "train-features.txt and train-labels.txt). Test your classifier on the test data (test-features.txt\n",
        "and test-labels.txt, and report the testing accuracy as well as how many wrong predictions were made.\n",
        "In estimating the model parameters use the above MLE estimator. IMPORTANT: if it arises in your code,\n",
        "define 0 ∗ log 0 = 0 and a ∗ log 0, is as it is, that is -inf ). In case of ties, you should predict “non-spam”. In\n",
        "the written part of your report what your test set accuracy is? What did your classifier end up predicting?\n",
        "Why is using the MLE estimate is a bad idea in this situation?\n",
        "\n",
        "---"
      ],
      "metadata": {
        "id": "rjDMN6CD2lbY"
      }
    },
    {
      "cell_type": "markdown",
      "source": [
        "### Training"
      ],
      "metadata": {
        "id": "xXp93RkY_X0j"
      }
    },
    {
      "cell_type": "code",
      "source": [
        "N_1 = len(train_dataset[train_dataset[\"y\"] == 1])   # number of 1 labeled samples\n",
        "N = len(train_dataset)                              # number of total samples\n",
        "pi_y_1 = N_1 / N                                    # prior probability of given class 1 (spam)\n",
        "vocab_size = 2500\n",
        "\n",
        "# creating a list that contains sum of word counts for each row, to be able to use in calculations\n",
        "word_cou_each_row = train_dataset.sum(axis=1)\n",
        "\n",
        "# calculating the total number of words of the given class:\n",
        "total_words_1 = sum([word_cou_each_row[i] for i in range(len(train_dataset)) \\\n",
        "               if train_dataset[\"y\"][i] == 1])\n",
        "\n",
        "total_words_0 = sum([word_cou_each_row[i] for i in range(len(train_dataset)) \\\n",
        "               if train_dataset[\"y\"][i] == 0])\n",
        "\n",
        "# calculating the number of occurrences of the words in given class:\n",
        "T_j_0 = {i:sum(train_dataset[train_dataset[\"y\"]==0][i]) for i in train_dataset.columns[:-1]}\n",
        "T_j_1 = {i:sum(train_dataset[train_dataset[\"y\"]==1][i]) for i in train_dataset.columns[:-1]}\n",
        "\n",
        "# calculating the probabilities of the words in given class\n",
        "Q_j_y_0 = {i:T_j_0[i]/total_words_0 for i in T_j_0.keys()}\n",
        "Q_j_y_1 = {i:T_j_1[i]/total_words_1 for i in T_j_1.keys()}"
      ],
      "metadata": {
        "id": "KQdEGolYsO8m"
      },
      "execution_count": null,
      "outputs": []
    },
    {
      "cell_type": "markdown",
      "source": [
        "### Test"
      ],
      "metadata": {
        "id": "mggXAmzt_ckm"
      }
    },
    {
      "cell_type": "code",
      "source": [
        "test_results = []\n",
        "\n",
        "for x in tqdm(range(len(test_dataset))):\n",
        "\n",
        "  test_sample = test_dataset.iloc[x][:-1]\n",
        "  y_i = test_dataset[\"y\"][x]\n",
        "\n",
        "  prob_y_0 = np.log2(1 - pi_y_1) + sum([test_sample[i] * np.log2(Q_j_y_0[i]) \\\n",
        "                                        if Q_j_y_0[i]!= 0 else test_sample[i] for i in test_dataset.columns[:-1]])\n",
        "\n",
        "  prob_y_1 = np.log2(pi_y_1) + sum([test_sample[i] * np.log2(Q_j_y_1[i]) \\\n",
        "                                    if Q_j_y_1[i]!= 0 else test_sample[i] for i in test_dataset.columns[:-1]])\n",
        "\n",
        "  y_hat_i = np.argmax([prob_y_0, prob_y_1]) if prob_y_1 != prob_y_0 else 0\n",
        "\n",
        "  test_results.append(y_hat_i)\n"
      ],
      "metadata": {
        "colab": {
          "base_uri": "https://localhost:8080/"
        },
        "id": "wmzIvBeT0j2c",
        "outputId": "0b282f47-f441-4b40-e343-b0b2e0c663cf"
      },
      "execution_count": null,
      "outputs": [
        {
          "output_type": "stream",
          "name": "stderr",
          "text": [
            "100%|██████████| 260/260 [00:12<00:00, 20.62it/s]\n"
          ]
        }
      ]
    },
    {
      "cell_type": "markdown",
      "source": [
        "### Test results"
      ],
      "metadata": {
        "id": "ipj_ti2J_RjL"
      }
    },
    {
      "cell_type": "markdown",
      "source": [
        "***Confusion matrix:***"
      ],
      "metadata": {
        "id": "sYnR4qdN_NZk"
      }
    },
    {
      "cell_type": "code",
      "source": [
        "confusion_matrix(test_dataset[\"y\"], test_results)"
      ],
      "metadata": {
        "colab": {
          "base_uri": "https://localhost:8080/"
        },
        "id": "MjOUFnKsBpXl",
        "outputId": "17858254-d01b-411e-da8b-febe9af6550a"
      },
      "execution_count": null,
      "outputs": [
        {
          "output_type": "execute_result",
          "data": {
            "text/plain": [
              "array([[ 42,  88],\n",
              "       [ 24, 106]])"
            ]
          },
          "metadata": {},
          "execution_count": 13
        }
      ]
    },
    {
      "cell_type": "code",
      "source": [
        "sns.heatmap(confusion_matrix(test_dataset[\"y\"], test_results), annot=True, robust=True, fmt='g')"
      ],
      "metadata": {
        "colab": {
          "base_uri": "https://localhost:8080/",
          "height": 282
        },
        "id": "rJ6UEGo__Bc9",
        "outputId": "9d5c2894-14f7-4442-b09f-fbe8f17a40a2"
      },
      "execution_count": null,
      "outputs": [
        {
          "output_type": "execute_result",
          "data": {
            "text/plain": [
              "<matplotlib.axes._subplots.AxesSubplot at 0x7f5a0a805fd0>"
            ]
          },
          "metadata": {},
          "execution_count": 14
        },
        {
          "output_type": "display_data",
          "data": {
            "text/plain": [
              "<Figure size 432x288 with 2 Axes>"
            ],
            "image/png": "[encoded data removed]"
          },
          "metadata": {
            "needs_background": "light"
          }
        }
      ]
    },
    {
      "cell_type": "markdown",
      "source": [
        "***Classification report:***"
      ],
      "metadata": {
        "id": "Vzt8sWdv_Lgz"
      }
    },
    {
      "cell_type": "code",
      "source": [
        "print(classification_report(test_dataset[\"y\"], test_results))"
      ],
      "metadata": {
        "colab": {
          "base_uri": "https://localhost:8080/"
        },
        "id": "2T04LgA_6Zwd",
        "outputId": "1082aa78-ecf1-4b6a-d3af-8e7b4ecb0256"
      },
      "execution_count": null,
      "outputs": [
        {
          "output_type": "stream",
          "name": "stdout",
          "text": [
            "              precision    recall  f1-score   support\n",
            "\n",
            "           0       0.64      0.32      0.43       130\n",
            "           1       0.55      0.82      0.65       130\n",
            "\n",
            "    accuracy                           0.57       260\n",
            "   macro avg       0.59      0.57      0.54       260\n",
            "weighted avg       0.59      0.57      0.54       260\n",
            "\n"
          ]
        }
      ]
    },
    {
      "cell_type": "markdown",
      "source": [
        "### Let's create a NaiveBayesClassifier class for easier implementation"
      ],
      "metadata": {
        "id": "E4FgMWG9_Uiw"
      }
    },
    {
      "cell_type": "code",
      "source": [
        "class NaiveBayesClassifier:\n",
        "  def __init__(self, train_dataset):\n",
        "    self.data = train_dataset\n",
        "\n",
        "    # creating a list that contains sum of word counts for each row, to be able to use in calculations:\n",
        "    self.word_cou_each_row = self.data.sum(axis=1)\n",
        "\n",
        "\n",
        "  def train(self):\n",
        "    N_1 = len(self.data[self.data[\"y\"] == 1])   # number of 1 labeled samples\n",
        "    N = len(self.data)                          # number of total samples\n",
        "    self.pi_y_1 = N_1 / N                       # prior probability of given class 1 (spam)\n",
        "\n",
        "    # since the last column is for labels (y), we can define vocab size as:\n",
        "    vocab_size = len(self.data.columns[:-1])\n",
        "\n",
        "    # calculating the total number of words for each given class:\n",
        "    total_words_1 = sum([self.word_cou_each_row[i] for i in range(len(self.data)) \\\n",
        "                  if self.data[\"y\"][i] == 1])\n",
        "\n",
        "    total_words_0 = sum([self.word_cou_each_row[i] for i in range(len(self.data)) \\\n",
        "                  if self.data[\"y\"][i] == 0])\n",
        "\n",
        "    # calculating the number of occurrences of the words for each given class:\n",
        "    T_j_0 = {i:sum(self.data[self.data[\"y\"]==0][i]) for i in self.data.columns[:-1]}\n",
        "    T_j_1 = {i:sum(self.data[self.data[\"y\"]==1][i]) for i in self.data.columns[:-1]}\n",
        "\n",
        "    # calculating the probabilities of the words in given class\n",
        "    self.Q_j_y_0 = {i:T_j_0[i]/total_words_0 for i in T_j_0.keys()}\n",
        "    self.Q_j_y_1 = {i:T_j_1[i]/total_words_1 for i in T_j_1.keys()}\n",
        "\n",
        "\n",
        "  def test(self, test_dataset):\n",
        "    self.test_results = []\n",
        "    self.test_dataset = test_dataset\n",
        "\n",
        "    for x in tqdm(range(len(test_dataset))):\n",
        "\n",
        "      test_sample = test_dataset.iloc[x][:-1]   # word vector of the particular test sample\n",
        "      y_i = test_dataset[\"y\"][x]                # label of the particular test sample\n",
        "\n",
        "      # calculating the probabilities for each class\n",
        "      prob_y_0 = np.log2(1 - self.pi_y_1) + sum([test_sample[i] * np.log2(self.Q_j_y_0[i]) \\\n",
        "                                            if self.Q_j_y_0[i]!= 0 else test_sample[i] for i in test_dataset.columns[:-1]])\n",
        "\n",
        "      prob_y_1 = np.log2(self.pi_y_1) + sum([test_sample[i] * np.log2(self.Q_j_y_1[i]) \\\n",
        "                                        if self.Q_j_y_1[i]!= 0 else test_sample[i] for i in test_dataset.columns[:-1]])\n",
        "\n",
        "      # taking the argmax to find the predicted class for the particular test sample:\n",
        "      y_hat_i = np.argmax([prob_y_0, prob_y_1]) if prob_y_1 != prob_y_0 else 0\n",
        "\n",
        "      self.test_results.append(y_hat_i)\n",
        "\n",
        "    return self.test_results\n",
        "\n",
        "\n",
        "  def plot_results(self):\n",
        "    sns.heatmap(confusion_matrix(self.test_dataset[\"y\"], self.test_results), annot=True, robust=True, fmt='g')\n",
        "    print(classification_report(self.test_dataset[\"y\"], self.test_results))"
      ],
      "metadata": {
        "id": "eqhYDVBIyuGd"
      },
      "execution_count": null,
      "outputs": []
    },
    {
      "cell_type": "markdown",
      "source": [
        "#### Usage"
      ],
      "metadata": {
        "id": "BSOT7eN_AOAS"
      }
    },
    {
      "cell_type": "code",
      "source": [
        "nb_classifier = NaiveBayesClassifier(train_dataset)\n",
        "nb_classifier.train()"
      ],
      "metadata": {
        "id": "-3fk8skoAP2w"
      },
      "execution_count": null,
      "outputs": []
    },
    {
      "cell_type": "code",
      "source": [
        "nb_classifier.test(test_dataset)\n",
        "nb_classifier.plot_results()"
      ],
      "metadata": {
        "colab": {
          "base_uri": "https://localhost:8080/",
          "height": 439
        },
        "id": "ZXLLyA5dDAJ1",
        "outputId": "630a820c-5534-4857-db05-e5334d733f7e"
      },
      "execution_count": null,
      "outputs": [
        {
          "output_type": "stream",
          "name": "stderr",
          "text": [
            "100%|██████████| 260/260 [00:12<00:00, 20.66it/s]\n"
          ]
        },
        {
          "output_type": "stream",
          "name": "stdout",
          "text": [
            "              precision    recall  f1-score   support\n",
            "\n",
            "           0       0.64      0.32      0.43       130\n",
            "           1       0.55      0.82      0.65       130\n",
            "\n",
            "    accuracy                           0.57       260\n",
            "   macro avg       0.59      0.57      0.54       260\n",
            "weighted avg       0.59      0.57      0.54       260\n",
            "\n"
          ]
        },
        {
          "output_type": "display_data",
          "data": {
            "text/plain": [
              "<Figure size 432x288 with 2 Axes>"
            ],
            "image/png": "[encoded data removed]"
          },
          "metadata": {
            "needs_background": "light"
          }
        }
      ]
    },
    {
      "cell_type": "markdown",
      "source": [
        "## Question 3.4\n",
        "\n",
        "Extend your classifier so that it can compute an MAP estimate of\n",
        "θ parameters using a fair Dirichlet prior. This corresponds to additive smoothing. The prior is fair in the sense that it “hallucinates” that each word appears additionally α times in the train set.\n",
        "\n",
        "---"
      ],
      "metadata": {
        "id": "D2Fh5MriqXeh"
      }
    },
    {
      "cell_type": "markdown",
      "source": [
        "While solving this question, I will proceed through the class structure I created. First I will add an alpha parameter to the init function. Thus, we will be able to define the alpha value as optional while creating our model. Later on, I will include this alpha variable when calculating probabilities in the training phase of the model as applied in the formula."
      ],
      "metadata": {
        "id": "a33zcThAjsRi"
      }
    },
    {
      "cell_type": "code",
      "source": [
        "class NaiveBayesClassifier:\n",
        "  def __init__(self, train_dataset, alpha=1):\n",
        "    self.data = train_dataset\n",
        "\n",
        "    # creating a list that contains sum of word counts for each row, to be able to use in calculations:\n",
        "    self.word_cou_each_row = self.data.sum(axis=1)\n",
        "    self.alpha = alpha\n",
        "\n",
        "\n",
        "  def train(self):\n",
        "    N_1 = len(self.data[self.data[\"y\"] == 1])   # number of 1 labeled samples\n",
        "    N = len(self.data)                          # number of total samples\n",
        "    self.pi_y_1 = N_1 / N                       # prior probability of given class 1 (spam)\n",
        "\n",
        "    # since the last column is for labels (y), we can define vocab size as:\n",
        "    vocab_size = len(self.data.columns[:-1])\n",
        "\n",
        "    # calculating the total number of words for each given class:\n",
        "    total_words_1 = sum([self.word_cou_each_row[i] for i in range(len(self.data)) \\\n",
        "                  if self.data[\"y\"][i] == 1])\n",
        "\n",
        "    total_words_0 = sum([self.word_cou_each_row[i] for i in range(len(self.data)) \\\n",
        "                  if self.data[\"y\"][i] == 0])\n",
        "\n",
        "    # calculating the number of occurrences of the words for each given class:\n",
        "    T_j_0 = {i:sum(self.data[self.data[\"y\"]==0][i]) for i in self.data.columns[:-1]}\n",
        "    T_j_1 = {i:sum(self.data[self.data[\"y\"]==1][i]) for i in self.data.columns[:-1]}\n",
        "\n",
        "    # calculating the probabilities of the words in given class\n",
        "    self.Q_j_y_0 = {i:(T_j_0[i] + self.alpha)/(self.alpha * vocab_size + total_words_0) for i in T_j_0.keys()}\n",
        "    self.Q_j_y_1 = {i:(T_j_1[i] + self.alpha)/(self.alpha * vocab_size + total_words_1) for i in T_j_1.keys()}\n",
        "\n",
        "\n",
        "  def test(self, test_dataset):\n",
        "    self.test_results = []\n",
        "    self.test_dataset = test_dataset\n",
        "\n",
        "    for x in tqdm(range(len(test_dataset))):\n",
        "\n",
        "      test_sample = test_dataset.iloc[x][:-1]   # word vector of the particular test sample\n",
        "      y_i = test_dataset[\"y\"][x]                # label of the particular test sample\n",
        "\n",
        "      # calculating the probabilities for each class\n",
        "      prob_y_0 = np.log2(1 - self.pi_y_1) + sum([test_sample[i] * np.log2(self.Q_j_y_0[i]) \\\n",
        "                                            if self.Q_j_y_0[i]!= 0 else test_sample[i] for i in test_dataset.columns[:-1]])\n",
        "\n",
        "      prob_y_1 = np.log2(self.pi_y_1) + sum([test_sample[i] * np.log2(self.Q_j_y_1[i]) \\\n",
        "                                        if self.Q_j_y_1[i]!= 0 else test_sample[i] for i in test_dataset.columns[:-1]])\n",
        "\n",
        "      # taking the argmax to find the predicted class for the particular test sample:\n",
        "      y_hat_i = np.argmax([prob_y_0, prob_y_1]) if prob_y_1 != prob_y_0 else 0\n",
        "\n",
        "      self.test_results.append(y_hat_i)\n",
        "\n",
        "    return self.test_results\n",
        "\n",
        "\n",
        "  def plot_results(self):\n",
        "    sns.heatmap(confusion_matrix(self.test_dataset[\"y\"], self.test_results), annot=True, robust=True, fmt='g')\n",
        "    print(classification_report(self.test_dataset[\"y\"], self.test_results))"
      ],
      "metadata": {
        "id": "V1u3v9MUEUbH"
      },
      "execution_count": null,
      "outputs": []
    },
    {
      "cell_type": "code",
      "source": [
        "nb_classifier = NaiveBayesClassifier(train_dataset)\n",
        "nb_classifier.train()"
      ],
      "metadata": {
        "id": "xZRcVxvVleN0"
      },
      "execution_count": null,
      "outputs": []
    },
    {
      "cell_type": "code",
      "source": [
        "nb_classifier.test(test_dataset)\n",
        "nb_classifier.plot_results()"
      ],
      "metadata": {
        "colab": {
          "base_uri": "https://localhost:8080/",
          "height": 439
        },
        "id": "UlCFX3OKlg3W",
        "outputId": "886fe14c-d8ed-45df-c33e-83d3f2fbce76"
      },
      "execution_count": null,
      "outputs": [
        {
          "output_type": "stream",
          "name": "stderr",
          "text": [
            "100%|██████████| 260/260 [00:13<00:00, 19.28it/s]\n"
          ]
        },
        {
          "output_type": "stream",
          "name": "stdout",
          "text": [
            "              precision    recall  f1-score   support\n",
            "\n",
            "           0       0.97      0.98      0.97       130\n",
            "           1       0.98      0.97      0.97       130\n",
            "\n",
            "    accuracy                           0.97       260\n",
            "   macro avg       0.97      0.97      0.97       260\n",
            "weighted avg       0.97      0.97      0.97       260\n",
            "\n"
          ]
        },
        {
          "output_type": "display_data",
          "data": {
            "text/plain": [
              "<Figure size 432x288 with 2 Axes>"
            ],
            "image/png": "[encoded data removed]"
          },
          "metadata": {
            "needs_background": "light"
          }
        }
      ]
    }
  ]
}