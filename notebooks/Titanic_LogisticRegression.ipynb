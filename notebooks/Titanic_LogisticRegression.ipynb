{
  "nbformat": 4,
  "nbformat_minor": 0,
  "metadata": {
    "colab": {
      "provenance": [],
      "collapsed_sections": [
        "U-Jx3GhJ_p_T"
      ]
    },
    "kernelspec": {
      "name": "python3",
      "display_name": "Python 3"
    },
    "language_info": {
      "name": "python"
    }
  },
  "cells": [
    {
      "cell_type": "markdown",
      "source": [
        "# imports"
      ],
      "metadata": {
        "id": "U-Jx3GhJ_p_T"
      }
    },
    {
      "cell_type": "code",
      "source": [
        "import pandas as pd\n",
        "import numpy as np\n",
        "import math\n",
        "\n",
        "from tqdm import tqdm\n",
        "\n",
        "from sklearn.metrics import confusion_matrix, classification_report, accuracy_score\n",
        "from sklearn.model_selection import train_test_split\n",
        "import seaborn as sns\n",
        "import matplotlib.pyplot as plt"
      ],
      "metadata": {
        "id": "9uC37oxD_rfj"
      },
      "execution_count": null,
      "outputs": []
    },
    {
      "cell_type": "markdown",
      "source": [
        "# read & prepare the dataset"
      ],
      "metadata": {
        "id": "hYm76LeI_toB"
      }
    },
    {
      "cell_type": "code",
      "source": [
        "titanic_dataset = pd.read_csv(\"/content/drive/MyDrive/courses/cs512-machine_learning/Homeworks/Homework2/titanicdata.csv\")\n",
        "titanic_dataset.head()"
      ],
      "metadata": {
        "colab": {
          "base_uri": "https://localhost:8080/",
          "height": 206
        },
        "id": "YEmmZCP8_wBJ",
        "outputId": "2e1e1852-0308-47b5-99ed-63f1224ede9e"
      },
      "execution_count": null,
      "outputs": [
        {
          "output_type": "execute_result",
          "data": {
            "text/plain": [
              "   Survived  Pclass  Sex   Age\n",
              "0         0       3    2  22.0\n",
              "1         1       1    1  38.0\n",
              "2         1       3    1  26.0\n",
              "3         1       1    1  35.0\n",
              "4         0       3    2  35.0"
            ],
            "text/html": [
              "\n",
              "  <div id=\"df-2c028ded-d038-4950-85dc-e28b79eda704\">\n",
              "    <div class=\"colab-df-container\">\n",
              "      <div>\n",
              "<style scoped>\n",
              "    .dataframe tbody tr th:only-of-type {\n",
              "        vertical-align: middle;\n",
              "    }\n",
              "\n",
              "    .dataframe tbody tr th {\n",
              "        vertical-align: top;\n",
              "    }\n",
              "\n",
              "    .dataframe thead th {\n",
              "        text-align: right;\n",
              "    }\n",
              "</style>\n",
              "<table border=\"1\" class=\"dataframe\">\n",
              "  <thead>\n",
              "    <tr style=\"text-align: right;\">\n",
              "      <th></th>\n",
              "      <th>Survived</th>\n",
              "      <th>Pclass</th>\n",
              "      <th>Sex</th>\n",
              "      <th>Age</th>\n",
              "    </tr>\n",
              "  </thead>\n",
              "  <tbody>\n",
              "    <tr>\n",
              "      <th>0</th>\n",
              "      <td>0</td>\n",
              "      <td>3</td>\n",
              "      <td>2</td>\n",
              "      <td>22.0</td>\n",
              "    </tr>\n",
              "    <tr>\n",
              "      <th>1</th>\n",
              "      <td>1</td>\n",
              "      <td>1</td>\n",
              "      <td>1</td>\n",
              "      <td>38.0</td>\n",
              "    </tr>\n",
              "    <tr>\n",
              "      <th>2</th>\n",
              "      <td>1</td>\n",
              "      <td>3</td>\n",
              "      <td>1</td>\n",
              "      <td>26.0</td>\n",
              "    </tr>\n",
              "    <tr>\n",
              "      <th>3</th>\n",
              "      <td>1</td>\n",
              "      <td>1</td>\n",
              "      <td>1</td>\n",
              "      <td>35.0</td>\n",
              "    </tr>\n",
              "    <tr>\n",
              "      <th>4</th>\n",
              "      <td>0</td>\n",
              "      <td>3</td>\n",
              "      <td>2</td>\n",
              "      <td>35.0</td>\n",
              "    </tr>\n",
              "  </tbody>\n",
              "</table>\n",
              "</div>\n",
              "      <button class=\"colab-df-convert\" onclick=\"convertToInteractive('df-2c028ded-d038-4950-85dc-e28b79eda704')\"\n",
              "              title=\"Convert this dataframe to an interactive table.\"\n",
              "              style=\"display:none;\">\n",
              "        \n",
              "  <svg xmlns=\"http://www.w3.org/2000/svg\" height=\"24px\"viewBox=\"0 0 24 24\"\n",
              "       width=\"24px\">\n",
              "    <path d=\"M0 0h24v24H0V0z\" fill=\"none\"/>\n",
              "    <path d=\"M18.56 5.44l.94 2.06.94-2.06 2.06-.94-2.06-.94-.94-2.06-.94 2.06-2.06.94zm-11 1L8.5 8.5l.94-2.06 2.06-.94-2.06-.94L8.5 2.5l-.94 2.06-2.06.94zm10 10l.94 2.06.94-2.06 2.06-.94-2.06-.94-.94-2.06-.94 2.06-2.06.94z\"/><path d=\"M17.41 7.96l-1.37-1.37c-.4-.4-.92-.59-1.43-.59-.52 0-1.04.2-1.43.59L10.3 9.45l-7.72 7.72c-.78.78-.78 2.05 0 2.83L4 21.41c.39.39.9.59 1.41.59.51 0 1.02-.2 1.41-.59l7.78-7.78 2.81-2.81c.8-.78.8-2.07 0-2.86zM5.41 20L4 18.59l7.72-7.72 1.47 1.35L5.41 20z\"/>\n",
              "  </svg>\n",
              "      </button>\n",
              "      \n",
              "  <style>\n",
              "    .colab-df-container {\n",
              "      display:flex;\n",
              "      flex-wrap:wrap;\n",
              "      gap: 12px;\n",
              "    }\n",
              "\n",
              "    .colab-df-convert {\n",
              "      background-color: #E8F0FE;\n",
              "      border: none;\n",
              "      border-radius: 50%;\n",
              "      cursor: pointer;\n",
              "      display: none;\n",
              "      fill: #1967D2;\n",
              "      height: 32px;\n",
              "      padding: 0 0 0 0;\n",
              "      width: 32px;\n",
              "    }\n",
              "\n",
              "    .colab-df-convert:hover {\n",
              "      background-color: #E2EBFA;\n",
              "      box-shadow: 0px 1px 2px rgba(60, 64, 67, 0.3), 0px 1px 3px 1px rgba(60, 64, 67, 0.15);\n",
              "      fill: #174EA6;\n",
              "    }\n",
              "\n",
              "    [theme=dark] .colab-df-convert {\n",
              "      background-color: #3B4455;\n",
              "      fill: #D2E3FC;\n",
              "    }\n",
              "\n",
              "    [theme=dark] .colab-df-convert:hover {\n",
              "      background-color: #434B5C;\n",
              "      box-shadow: 0px 1px 3px 1px rgba(0, 0, 0, 0.15);\n",
              "      filter: drop-shadow(0px 1px 2px rgba(0, 0, 0, 0.3));\n",
              "      fill: #FFFFFF;\n",
              "    }\n",
              "  </style>\n",
              "\n",
              "      <script>\n",
              "        const buttonEl =\n",
              "          document.querySelector('#df-2c028ded-d038-4950-85dc-e28b79eda704 button.colab-df-convert');\n",
              "        buttonEl.style.display =\n",
              "          google.colab.kernel.accessAllowed ? 'block' : 'none';\n",
              "\n",
              "        async function convertToInteractive(key) {\n",
              "          const element = document.querySelector('#df-2c028ded-d038-4950-85dc-e28b79eda704');\n",
              "          const dataTable =\n",
              "            await google.colab.kernel.invokeFunction('convertToInteractive',\n",
              "                                                     [key], {});\n",
              "          if (!dataTable) return;\n",
              "\n",
              "          const docLinkHtml = 'Like what you see? Visit the ' +\n",
              "            '<a target=\"_blank\" href=https://colab.research.google.com/notebooks/data_table.ipynb>data table notebook</a>'\n",
              "            + ' to learn more about interactive tables.';\n",
              "          element.innerHTML = '';\n",
              "          dataTable['output_type'] = 'display_data';\n",
              "          await google.colab.output.renderOutput(dataTable, element);\n",
              "          const docLink = document.createElement('div');\n",
              "          docLink.innerHTML = docLinkHtml;\n",
              "          element.appendChild(docLink);\n",
              "        }\n",
              "      </script>\n",
              "    </div>\n",
              "  </div>\n",
              "  "
            ]
          },
          "metadata": {},
          "execution_count": 2
        }
      ]
    },
    {
      "cell_type": "markdown",
      "source": [
        " ### looking for none values"
      ],
      "metadata": {
        "id": "rDkZ2PETw-M_"
      }
    },
    {
      "cell_type": "code",
      "source": [
        "titanic_dataset.isna().sum()"
      ],
      "metadata": {
        "colab": {
          "base_uri": "https://localhost:8080/"
        },
        "id": "F9uxl10zAm8e",
        "outputId": "73dd6c43-7474-4eea-b666-a5747bd91d4f"
      },
      "execution_count": null,
      "outputs": [
        {
          "output_type": "execute_result",
          "data": {
            "text/plain": [
              "Survived    0\n",
              "Pclass      0\n",
              "Sex         0\n",
              "Age         0\n",
              "dtype: int64"
            ]
          },
          "metadata": {},
          "execution_count": 3
        }
      ]
    },
    {
      "cell_type": "markdown",
      "source": [
        "### checking value counts for categorical features & label"
      ],
      "metadata": {
        "id": "XXm4fXFRBEAm"
      }
    },
    {
      "cell_type": "code",
      "source": [
        "titanic_dataset[\"Survived\"].value_counts()"
      ],
      "metadata": {
        "colab": {
          "base_uri": "https://localhost:8080/"
        },
        "id": "ZcvYCgsjAz64",
        "outputId": "4e319656-938f-495d-f8cb-e3dbdf54e4dc"
      },
      "execution_count": null,
      "outputs": [
        {
          "output_type": "execute_result",
          "data": {
            "text/plain": [
              "0    549\n",
              "1    342\n",
              "Name: Survived, dtype: int64"
            ]
          },
          "metadata": {},
          "execution_count": 4
        }
      ]
    },
    {
      "cell_type": "code",
      "source": [
        "titanic_dataset[\"Pclass\"].value_counts()"
      ],
      "metadata": {
        "colab": {
          "base_uri": "https://localhost:8080/"
        },
        "id": "YDbbie8UA6mA",
        "outputId": "a7a4c9b2-4505-4b66-d7e6-dcf1937a8c91"
      },
      "execution_count": null,
      "outputs": [
        {
          "output_type": "execute_result",
          "data": {
            "text/plain": [
              "3    491\n",
              "1    216\n",
              "2    184\n",
              "Name: Pclass, dtype: int64"
            ]
          },
          "metadata": {},
          "execution_count": 5
        }
      ]
    },
    {
      "cell_type": "code",
      "source": [
        "titanic_dataset[\"Sex\"].value_counts()"
      ],
      "metadata": {
        "colab": {
          "base_uri": "https://localhost:8080/"
        },
        "id": "MVMv_wnVA-8J",
        "outputId": "cf43afdf-0fe1-4044-97b7-736335bcf9fc"
      },
      "execution_count": null,
      "outputs": [
        {
          "output_type": "execute_result",
          "data": {
            "text/plain": [
              "2    577\n",
              "1    314\n",
              "Name: Sex, dtype: int64"
            ]
          },
          "metadata": {},
          "execution_count": 6
        }
      ]
    },
    {
      "cell_type": "markdown",
      "source": [
        "### checking the statistics of numerical feature _Age_"
      ],
      "metadata": {
        "id": "CW6Iq-h6BINf"
      }
    },
    {
      "cell_type": "code",
      "source": [
        "titanic_dataset[\"Age\"].describe()"
      ],
      "metadata": {
        "colab": {
          "base_uri": "https://localhost:8080/"
        },
        "id": "kwRydahcAqFE",
        "outputId": "80f3a420-7465-43d5-b792-33a8cfb7b45e"
      },
      "execution_count": null,
      "outputs": [
        {
          "output_type": "execute_result",
          "data": {
            "text/plain": [
              "count    891.000000\n",
              "mean      29.699118\n",
              "std       13.002015\n",
              "min        0.420000\n",
              "25%       22.000000\n",
              "50%       29.699118\n",
              "75%       35.000000\n",
              "max       80.000000\n",
              "Name: Age, dtype: float64"
            ]
          },
          "metadata": {},
          "execution_count": 7
        }
      ]
    },
    {
      "cell_type": "markdown",
      "source": [
        "# normalizing"
      ],
      "metadata": {
        "id": "wmu5eA9jjiy4"
      }
    },
    {
      "cell_type": "code",
      "source": [
        "max(titanic_dataset[\"Age\"])"
      ],
      "metadata": {
        "colab": {
          "base_uri": "https://localhost:8080/"
        },
        "id": "7DMH21__j7mE",
        "outputId": "7b0bf665-fc39-4437-f5d4-014bcfeb3601"
      },
      "execution_count": null,
      "outputs": [
        {
          "output_type": "execute_result",
          "data": {
            "text/plain": [
              "80.0"
            ]
          },
          "metadata": {},
          "execution_count": 8
        }
      ]
    },
    {
      "cell_type": "markdown",
      "source": [
        "* Normally we don't prefer normalizing the categorical features. But since in the question it specificly says to normalize *all* of the features, here I'm normalizing the categorical ones as well."
      ],
      "metadata": {
        "id": "IjCh_DtjxE19"
      }
    },
    {
      "cell_type": "code",
      "source": [
        "titanic_dataset[\"Age_normalized\"] = [(x - min(titanic_dataset[\"Age\"]))/((max(titanic_dataset[\"Age\"]) - min(titanic_dataset[\"Age\"]))) for x in titanic_dataset[\"Age\"]]\n",
        "titanic_dataset[\"Sex_normalized\"] = [(x - min(titanic_dataset[\"Sex\"]))/((max(titanic_dataset[\"Sex\"]) - min(titanic_dataset[\"Sex\"]))) for x in titanic_dataset[\"Sex\"]] # categorical\n",
        "titanic_dataset[\"Pclass_normalized\"] = [(x - min(titanic_dataset[\"Pclass\"]))/((max(titanic_dataset[\"Pclass\"]) - min(titanic_dataset[\"Pclass\"]))) for x in titanic_dataset[\"Pclass\"]] # categorical"
      ],
      "metadata": {
        "id": "SrFCr2IXjltX"
      },
      "execution_count": null,
      "outputs": []
    },
    {
      "cell_type": "code",
      "source": [
        "titanic_dataset[\"Pclass_normalized\"].value_counts() # categorical"
      ],
      "metadata": {
        "colab": {
          "base_uri": "https://localhost:8080/"
        },
        "id": "S3ywwKzbkWsH",
        "outputId": "82bb3696-7986-47cf-bec8-401634d0f3ce"
      },
      "execution_count": null,
      "outputs": [
        {
          "output_type": "execute_result",
          "data": {
            "text/plain": [
              "1.0    491\n",
              "0.0    216\n",
              "0.5    184\n",
              "Name: Pclass_normalized, dtype: int64"
            ]
          },
          "metadata": {},
          "execution_count": 10
        }
      ]
    },
    {
      "cell_type": "code",
      "source": [
        "titanic_dataset[\"Sex_normalized\"].value_counts() # categorical"
      ],
      "metadata": {
        "colab": {
          "base_uri": "https://localhost:8080/"
        },
        "id": "4LGw4sePkbhq",
        "outputId": "00caa624-ff33-4698-ef79-f54e60b373da"
      },
      "execution_count": null,
      "outputs": [
        {
          "output_type": "execute_result",
          "data": {
            "text/plain": [
              "1.0    577\n",
              "0.0    314\n",
              "Name: Sex_normalized, dtype: int64"
            ]
          },
          "metadata": {},
          "execution_count": 11
        }
      ]
    },
    {
      "cell_type": "code",
      "source": [
        "titanic_dataset[\"Age_normalized\"].describe()"
      ],
      "metadata": {
        "colab": {
          "base_uri": "https://localhost:8080/"
        },
        "id": "WI1YGPLTkbd9",
        "outputId": "14115bb4-b2a0-445e-adfb-d62666362ea2"
      },
      "execution_count": null,
      "outputs": [
        {
          "output_type": "execute_result",
          "data": {
            "text/plain": [
              "count    891.000000\n",
              "mean       0.367921\n",
              "std        0.163383\n",
              "min        0.000000\n",
              "25%        0.271174\n",
              "50%        0.367921\n",
              "75%        0.434531\n",
              "max        1.000000\n",
              "Name: Age_normalized, dtype: float64"
            ]
          },
          "metadata": {},
          "execution_count": 12
        }
      ]
    },
    {
      "cell_type": "code",
      "source": [
        "titanic_dataset.drop([\"Sex\", \"Age\", \"Pclass\"], inplace=True, axis=1)"
      ],
      "metadata": {
        "id": "XnDGI8DO5EID"
      },
      "execution_count": null,
      "outputs": []
    },
    {
      "cell_type": "markdown",
      "source": [
        "# Question 2.1\n",
        "\n",
        "First implement a function for gradient ascent optimization which takes learning rate as a parameter and then use it to implement your logistic regression classifier.\n",
        "\n",
        "---\n"
      ],
      "metadata": {
        "id": "4TogDcqI_hYy"
      }
    },
    {
      "cell_type": "code",
      "execution_count": null,
      "metadata": {
        "id": "NDQGL02B_OVa"
      },
      "outputs": [],
      "source": [
        "def sigmoid(x):\n",
        "  return np.exp(x) / (1 + np.exp(x))\n",
        "\n",
        "\n",
        "def compute_gradients(X, y, w_0, weights):\n",
        "  sample_cou, feature_cou = X.shape\n",
        "  d_w = np.zeros(feature_cou) # initializing the derivative of weights\n",
        "  d_w_0 = 0 # initializing the derivative of bias (w0)\n",
        "\n",
        "  for i in range(sample_cou):\n",
        "    d_w_0 += y[i] - sigmoid(w_0 + np.dot(weights, X[i])) # partial derivative of the objective function with respect to w0\n",
        "\n",
        "    for j in range(feature_cou):\n",
        "      d_w[j] += X[i][j] * (y[i] - sigmoid(w_0 + np.dot(weights, X[i]))) # partial derivative of the objective function with respect to arbitrary wj\n",
        "\n",
        "  return d_w_0, d_w\n",
        "\n",
        "\n",
        "def gradient_ascent(X, y, learning_rate, iterations):\n",
        "  weights = np.zeros(X.shape[1]) # initializing weights with an array of zeros\n",
        "  w_0 = 0 # initializing bias\n",
        "\n",
        "  weights_log = []\n",
        "\n",
        "  for it in range(iterations):\n",
        "    gradient_w0, gradient_weights = compute_gradients(X, y, w_0, weights) # calculating the gradients\n",
        "\n",
        "    weights += learning_rate * gradient_weights # updating the weights\n",
        "    weights_log.append(weights) # logging weights to see the change\n",
        "\n",
        "    w_0 += learning_rate * gradient_w0 # updating the bias\n",
        "\n",
        "  return weights, w_0, weights_log"
      ]
    },
    {
      "cell_type": "code",
      "source": [
        "  X = titanic_dataset.drop(\"Survived\", axis=1).to_numpy() # converting features to an array\n",
        "  y = titanic_dataset[\"Survived\"].to_numpy() # converting labels to an array"
      ],
      "metadata": {
        "id": "xTq2-rL4Xhwi"
      },
      "execution_count": null,
      "outputs": []
    },
    {
      "cell_type": "code",
      "source": [
        "X[:5]"
      ],
      "metadata": {
        "colab": {
          "base_uri": "https://localhost:8080/"
        },
        "id": "DiwXcmA5qdZp",
        "outputId": "bccc8589-8f01-4216-d080-3b2cebf9e739"
      },
      "execution_count": null,
      "outputs": [
        {
          "output_type": "execute_result",
          "data": {
            "text/plain": [
              "array([[0.27117366, 1.        , 1.        ],\n",
              "       [0.4722292 , 0.        , 0.        ],\n",
              "       [0.32143755, 0.        , 1.        ],\n",
              "       [0.43453129, 0.        , 0.        ],\n",
              "       [0.43453129, 1.        , 1.        ]])"
            ]
          },
          "metadata": {},
          "execution_count": 16
        }
      ]
    },
    {
      "cell_type": "code",
      "source": [
        "y[:5]"
      ],
      "metadata": {
        "colab": {
          "base_uri": "https://localhost:8080/"
        },
        "id": "XxotXGRUqjIP",
        "outputId": "6b3e0264-db0e-46aa-a8a2-4d1258039fe3"
      },
      "execution_count": null,
      "outputs": [
        {
          "output_type": "execute_result",
          "data": {
            "text/plain": [
              "array([0, 1, 1, 1, 0])"
            ]
          },
          "metadata": {},
          "execution_count": 17
        }
      ]
    },
    {
      "cell_type": "markdown",
      "source": [
        "## let's test our algorithm"
      ],
      "metadata": {
        "id": "dR8RUGzlxbZV"
      }
    },
    {
      "cell_type": "code",
      "source": [
        "weights, w_0, weights_log = gradient_ascent(X, y, 0.01, iterations=100)"
      ],
      "metadata": {
        "id": "191H5fPa-Sea"
      },
      "execution_count": null,
      "outputs": []
    },
    {
      "cell_type": "code",
      "source": [
        "weights"
      ],
      "metadata": {
        "colab": {
          "base_uri": "https://localhost:8080/"
        },
        "id": "OLmlyrfeqlFm",
        "outputId": "4639936e-c027-4287-befd-0095391a765f"
      },
      "execution_count": null,
      "outputs": [
        {
          "output_type": "execute_result",
          "data": {
            "text/plain": [
              "array([-2.94280645, -3.70672156, -3.18530774])"
            ]
          },
          "metadata": {},
          "execution_count": 19
        }
      ]
    },
    {
      "cell_type": "code",
      "source": [
        "w_0"
      ],
      "metadata": {
        "colab": {
          "base_uri": "https://localhost:8080/"
        },
        "id": "567PICFCqouJ",
        "outputId": "198f9773-7356-4afe-eafa-e321cfaa494b"
      },
      "execution_count": null,
      "outputs": [
        {
          "output_type": "execute_result",
          "data": {
            "text/plain": [
              "3.4126421494624744"
            ]
          },
          "metadata": {},
          "execution_count": 20
        }
      ]
    },
    {
      "cell_type": "code",
      "source": [
        "weights_log"
      ],
      "metadata": {
        "colab": {
          "base_uri": "https://localhost:8080/"
        },
        "id": "EIO_kurUqqv_",
        "outputId": "8946e050-3bdf-40cd-dd07-d8f52e3c386a"
      },
      "execution_count": null,
      "outputs": [
        {
          "output_type": "execute_result",
          "data": {
            "text/plain": [
              "[array([-2.94280645, -3.70672156, -3.18530774]),\n",
              " array([-2.94280645, -3.70672156, -3.18530774]),\n",
              " array([-2.94280645, -3.70672156, -3.18530774]),\n",
              " array([-2.94280645, -3.70672156, -3.18530774]),\n",
              " array([-2.94280645, -3.70672156, -3.18530774]),\n",
              " array([-2.94280645, -3.70672156, -3.18530774]),\n",
              " array([-2.94280645, -3.70672156, -3.18530774]),\n",
              " array([-2.94280645, -3.70672156, -3.18530774]),\n",
              " array([-2.94280645, -3.70672156, -3.18530774]),\n",
              " array([-2.94280645, -3.70672156, -3.18530774]),\n",
              " array([-2.94280645, -3.70672156, -3.18530774]),\n",
              " array([-2.94280645, -3.70672156, -3.18530774]),\n",
              " array([-2.94280645, -3.70672156, -3.18530774]),\n",
              " array([-2.94280645, -3.70672156, -3.18530774]),\n",
              " array([-2.94280645, -3.70672156, -3.18530774]),\n",
              " array([-2.94280645, -3.70672156, -3.18530774]),\n",
              " array([-2.94280645, -3.70672156, -3.18530774]),\n",
              " array([-2.94280645, -3.70672156, -3.18530774]),\n",
              " array([-2.94280645, -3.70672156, -3.18530774]),\n",
              " array([-2.94280645, -3.70672156, -3.18530774]),\n",
              " array([-2.94280645, -3.70672156, -3.18530774]),\n",
              " array([-2.94280645, -3.70672156, -3.18530774]),\n",
              " array([-2.94280645, -3.70672156, -3.18530774]),\n",
              " array([-2.94280645, -3.70672156, -3.18530774]),\n",
              " array([-2.94280645, -3.70672156, -3.18530774]),\n",
              " array([-2.94280645, -3.70672156, -3.18530774]),\n",
              " array([-2.94280645, -3.70672156, -3.18530774]),\n",
              " array([-2.94280645, -3.70672156, -3.18530774]),\n",
              " array([-2.94280645, -3.70672156, -3.18530774]),\n",
              " array([-2.94280645, -3.70672156, -3.18530774]),\n",
              " array([-2.94280645, -3.70672156, -3.18530774]),\n",
              " array([-2.94280645, -3.70672156, -3.18530774]),\n",
              " array([-2.94280645, -3.70672156, -3.18530774]),\n",
              " array([-2.94280645, -3.70672156, -3.18530774]),\n",
              " array([-2.94280645, -3.70672156, -3.18530774]),\n",
              " array([-2.94280645, -3.70672156, -3.18530774]),\n",
              " array([-2.94280645, -3.70672156, -3.18530774]),\n",
              " array([-2.94280645, -3.70672156, -3.18530774]),\n",
              " array([-2.94280645, -3.70672156, -3.18530774]),\n",
              " array([-2.94280645, -3.70672156, -3.18530774]),\n",
              " array([-2.94280645, -3.70672156, -3.18530774]),\n",
              " array([-2.94280645, -3.70672156, -3.18530774]),\n",
              " array([-2.94280645, -3.70672156, -3.18530774]),\n",
              " array([-2.94280645, -3.70672156, -3.18530774]),\n",
              " array([-2.94280645, -3.70672156, -3.18530774]),\n",
              " array([-2.94280645, -3.70672156, -3.18530774]),\n",
              " array([-2.94280645, -3.70672156, -3.18530774]),\n",
              " array([-2.94280645, -3.70672156, -3.18530774]),\n",
              " array([-2.94280645, -3.70672156, -3.18530774]),\n",
              " array([-2.94280645, -3.70672156, -3.18530774]),\n",
              " array([-2.94280645, -3.70672156, -3.18530774]),\n",
              " array([-2.94280645, -3.70672156, -3.18530774]),\n",
              " array([-2.94280645, -3.70672156, -3.18530774]),\n",
              " array([-2.94280645, -3.70672156, -3.18530774]),\n",
              " array([-2.94280645, -3.70672156, -3.18530774]),\n",
              " array([-2.94280645, -3.70672156, -3.18530774]),\n",
              " array([-2.94280645, -3.70672156, -3.18530774]),\n",
              " array([-2.94280645, -3.70672156, -3.18530774]),\n",
              " array([-2.94280645, -3.70672156, -3.18530774]),\n",
              " array([-2.94280645, -3.70672156, -3.18530774]),\n",
              " array([-2.94280645, -3.70672156, -3.18530774]),\n",
              " array([-2.94280645, -3.70672156, -3.18530774]),\n",
              " array([-2.94280645, -3.70672156, -3.18530774]),\n",
              " array([-2.94280645, -3.70672156, -3.18530774]),\n",
              " array([-2.94280645, -3.70672156, -3.18530774]),\n",
              " array([-2.94280645, -3.70672156, -3.18530774]),\n",
              " array([-2.94280645, -3.70672156, -3.18530774]),\n",
              " array([-2.94280645, -3.70672156, -3.18530774]),\n",
              " array([-2.94280645, -3.70672156, -3.18530774]),\n",
              " array([-2.94280645, -3.70672156, -3.18530774]),\n",
              " array([-2.94280645, -3.70672156, -3.18530774]),\n",
              " array([-2.94280645, -3.70672156, -3.18530774]),\n",
              " array([-2.94280645, -3.70672156, -3.18530774]),\n",
              " array([-2.94280645, -3.70672156, -3.18530774]),\n",
              " array([-2.94280645, -3.70672156, -3.18530774]),\n",
              " array([-2.94280645, -3.70672156, -3.18530774]),\n",
              " array([-2.94280645, -3.70672156, -3.18530774]),\n",
              " array([-2.94280645, -3.70672156, -3.18530774]),\n",
              " array([-2.94280645, -3.70672156, -3.18530774]),\n",
              " array([-2.94280645, -3.70672156, -3.18530774]),\n",
              " array([-2.94280645, -3.70672156, -3.18530774]),\n",
              " array([-2.94280645, -3.70672156, -3.18530774]),\n",
              " array([-2.94280645, -3.70672156, -3.18530774]),\n",
              " array([-2.94280645, -3.70672156, -3.18530774]),\n",
              " array([-2.94280645, -3.70672156, -3.18530774]),\n",
              " array([-2.94280645, -3.70672156, -3.18530774]),\n",
              " array([-2.94280645, -3.70672156, -3.18530774]),\n",
              " array([-2.94280645, -3.70672156, -3.18530774]),\n",
              " array([-2.94280645, -3.70672156, -3.18530774]),\n",
              " array([-2.94280645, -3.70672156, -3.18530774]),\n",
              " array([-2.94280645, -3.70672156, -3.18530774]),\n",
              " array([-2.94280645, -3.70672156, -3.18530774]),\n",
              " array([-2.94280645, -3.70672156, -3.18530774]),\n",
              " array([-2.94280645, -3.70672156, -3.18530774]),\n",
              " array([-2.94280645, -3.70672156, -3.18530774]),\n",
              " array([-2.94280645, -3.70672156, -3.18530774]),\n",
              " array([-2.94280645, -3.70672156, -3.18530774]),\n",
              " array([-2.94280645, -3.70672156, -3.18530774]),\n",
              " array([-2.94280645, -3.70672156, -3.18530774]),\n",
              " array([-2.94280645, -3.70672156, -3.18530774])]"
            ]
          },
          "metadata": {},
          "execution_count": 21
        }
      ]
    },
    {
      "cell_type": "markdown",
      "source": [
        "# Question 2.2\n",
        "\n",
        "Split the data into three random sets, 60% as train, 20% validation and 20% as test. Tune hyper-parameters (number of iterations and learning rate) using validation set accuracy. Report which values you tested for learning rate and the maximum number of iterations you used when tuning the model. Retrain your model combining train+val data with using the hyperparameters you have chosen and report the test set performance.\n",
        "\n",
        "---"
      ],
      "metadata": {
        "id": "V5Y7opyK_ltp"
      }
    },
    {
      "cell_type": "markdown",
      "source": [
        "## splitting the data into `train` - `test` - `val` sets"
      ],
      "metadata": {
        "id": "aZPMEKddzn_M"
      }
    },
    {
      "cell_type": "markdown",
      "source": [
        "* After the diviiding the train set, we can directly divide the rest of the data into two to create test and validation set, because the division ratios are equal for test and validation sets."
      ],
      "metadata": {
        "id": "OdSWVLRvxunQ"
      }
    },
    {
      "cell_type": "code",
      "source": [
        "train_ratio = 0.6\n",
        "val_ratio = 0.2\n",
        "test_ratio = 0.2\n",
        "\n",
        "X_train, X_test_val, y_train, y_test_val = train_test_split(X, y, test_size=val_ratio+test_ratio, random_state=42, stratify=y)\n",
        "X_test, X_val, y_test, y_val = train_test_split(X_test_val, y_test_val, test_size=0.5, random_state=42, stratify=y_test_val)"
      ],
      "metadata": {
        "id": "dYzyCEhAggyi"
      },
      "execution_count": null,
      "outputs": []
    },
    {
      "cell_type": "markdown",
      "source": [
        "## defining a test function to test the model"
      ],
      "metadata": {
        "id": "gFV06ED1yYtu"
      }
    },
    {
      "cell_type": "code",
      "source": [
        "def test(X, w_0, weights):\n",
        "\n",
        "  sample_cou = X.shape[0]\n",
        "  y_pred = [sigmoid(w_0 + np.dot(weights, X[i])) for i in range(sample_cou)]\n",
        "  y_pred = [1 if i>=0.5 else 0 for i in y_pred]\n",
        "\n",
        "  return y_pred"
      ],
      "metadata": {
        "id": "ihOtvO3CmyzI"
      },
      "execution_count": null,
      "outputs": []
    },
    {
      "cell_type": "markdown",
      "source": [
        "## defining hyperparameters to search"
      ],
      "metadata": {
        "id": "_JXqnVskyTqi"
      }
    },
    {
      "cell_type": "code",
      "source": [
        "learning_rates = [0.1, 0.01, 0.001, 0.5, 0.05, 0.005]\n",
        "iterations = [10, 50, 100, 200, 500, 1000, 1500]"
      ],
      "metadata": {
        "id": "IdAQv05tiDeN"
      },
      "execution_count": null,
      "outputs": []
    },
    {
      "cell_type": "markdown",
      "source": [
        "## hyperparameter tuning"
      ],
      "metadata": {
        "id": "7Q923ct9zMK4"
      }
    },
    {
      "cell_type": "code",
      "source": [
        "logs = []\n",
        "\n",
        "for lr in learning_rates:\n",
        "  for it in iterations:\n",
        "    weights, w_0, _ = gradient_ascent(X_train, y_train, lr, it)\n",
        "    y_pred = test(X_val, w_0, weights)\n",
        "\n",
        "    logs.append({\"weights\": weights,\n",
        "                 \"bias\": w_0,\n",
        "                 \"learning_rate\": lr,\n",
        "                 \"iteration\": it,\n",
        "                 \"accuracy\": accuracy_score(y_val, y_pred)})\n",
        "    print(logs[-1])"
      ],
      "metadata": {
        "colab": {
          "base_uri": "https://localhost:8080/"
        },
        "id": "oe6zzyikijaT",
        "outputId": "bbb8a2cc-30f2-4594-b477-9b8da2f9d8f8"
      },
      "execution_count": null,
      "outputs": [
        {
          "output_type": "stream",
          "name": "stdout",
          "text": [
            "{'weights': array([ 1.51759425, -8.2373959 , -1.88568392]), 'bias': 19.21613334849684, 'learning_rate': 0.1, 'iteration': 10, 'accuracy': 0.3854748603351955}\n",
            "{'weights': array([-19.98333898, -30.14380761, -28.82627014]), 'bias': 5.3106569785859215, 'learning_rate': 0.1, 'iteration': 50, 'accuracy': 0.6312849162011173}\n",
            "{'weights': array([-18.5553934 , -17.70246078, -13.31530908]), 'bias': 22.357673650597743, 'learning_rate': 0.1, 'iteration': 100, 'accuracy': 0.7932960893854749}\n",
            "{'weights': array([-21.96723941, -12.47952853, -15.04370952]), 'bias': 29.11020793150427, 'learning_rate': 0.1, 'iteration': 200, 'accuracy': 0.6983240223463687}\n",
            "{'weights': array([-32.40618455, -34.63755798, -32.34352618]), 'bias': 2.6778909843892897, 'learning_rate': 0.1, 'iteration': 500, 'accuracy': 0.6089385474860335}\n",
            "{'weights': array([-24.21742215, -16.21634743, -18.50847822]), 'bias': 25.692189412004627, 'learning_rate': 0.1, 'iteration': 1000, 'accuracy': 0.7821229050279329}\n",
            "{'weights': array([-25.14063761, -28.03752282, -22.39349767]), 'bias': 23.16773420976518, 'learning_rate': 0.1, 'iteration': 1500, 'accuracy': 0.7877094972067039}\n",
            "{'weights': array([ 0.09589213, -2.01769961, -1.02530557]), 'bias': 1.5575916679244102, 'learning_rate': 0.01, 'iteration': 10, 'accuracy': 0.7877094972067039}\n",
            "{'weights': array([-1.3020445 , -2.4588204 , -1.91244403]), 'bias': 2.687469528759986, 'learning_rate': 0.01, 'iteration': 50, 'accuracy': 0.7932960893854749}\n",
            "{'weights': array([-2.29849544, -2.50677224, -2.13805426]), 'bias': 3.2341262859402917, 'learning_rate': 0.01, 'iteration': 100, 'accuracy': 0.7988826815642458}\n",
            "{'weights': array([-3.01175047, -2.55004108, -2.29833425]), 'bias': 3.627521373414936, 'learning_rate': 0.01, 'iteration': 200, 'accuracy': 0.7932960893854749}\n",
            "{'weights': array([-3.25380743, -2.56725424, -2.35397067]), 'bias': 3.762985494413167, 'learning_rate': 0.01, 'iteration': 500, 'accuracy': 0.7821229050279329}\n",
            "{'weights': array([-3.25851494, -2.56760102, -2.35505868]), 'bias': 3.7656293839254253, 'learning_rate': 0.01, 'iteration': 1000, 'accuracy': 0.7821229050279329}\n",
            "{'weights': array([-3.25852153, -2.56760151, -2.3550602 ]), 'bias': 3.7656330870889434, 'learning_rate': 0.01, 'iteration': 1500, 'accuracy': 0.7821229050279329}\n",
            "{'weights': array([-0.05934032, -0.58938769, -0.33130199]), 'bias': -0.04302879029962765, 'learning_rate': 0.001, 'iteration': 10, 'accuracy': 0.6145251396648045}\n",
            "{'weights': array([ 0.04107213, -1.47265618, -0.70034659]), 'bias': 0.7302951023504906, 'learning_rate': 0.001, 'iteration': 50, 'accuracy': 0.7877094972067039}\n",
            "{'weights': array([-0.00353231, -1.94529725, -1.04776148]), 'bias': 1.293571447198867, 'learning_rate': 0.001, 'iteration': 100, 'accuracy': 0.7877094972067039}\n",
            "{'weights': array([-0.29429165, -2.27525674, -1.46974937]), 'bias': 1.900166118436641, 'learning_rate': 0.001, 'iteration': 200, 'accuracy': 0.7877094972067039}\n",
            "{'weights': array([-1.28402286, -2.45445136, -1.90312092]), 'bias': 2.671850619275685, 'learning_rate': 0.001, 'iteration': 500, 'accuracy': 0.7932960893854749}\n",
            "{'weights': array([-2.28396347, -2.50596234, -2.13476708]), 'bias': 3.2261196653177, 'learning_rate': 0.001, 'iteration': 1000, 'accuracy': 0.7988826815642458}\n",
            "{'weights': array([-2.76603885, -2.53385695, -2.24250547]), 'bias': 3.4910227797348004, 'learning_rate': 0.001, 'iteration': 1500, 'accuracy': 0.7988826815642458}\n",
            "{'weights': array([   7.98097714, -119.74875964,  -52.97298319]), 'bias': 92.78190614890188, 'learning_rate': 0.5, 'iteration': 10, 'accuracy': 0.7877094972067039}\n",
            "{'weights': array([-59.53124479, -68.91357689, -77.70130249]), 'bias': 162.64878039313786, 'learning_rate': 0.5, 'iteration': 50, 'accuracy': 0.5642458100558659}\n",
            "{'weights': array([-105.76986847,  -80.61270912,  -92.33538171]), 'bias': 126.50488037348657, 'learning_rate': 0.5, 'iteration': 100, 'accuracy': 0.7821229050279329}\n",
            "{'weights': array([-105.37679055,  -65.9569954 ,  -77.74606498]), 'bias': 138.33249022211984, 'learning_rate': 0.5, 'iteration': 200, 'accuracy': 0.7262569832402235}\n",
            "{'weights': array([-159.39523481, -176.08633101, -172.91614985]), 'bias': -5.011426736546412, 'learning_rate': 0.5, 'iteration': 500, 'accuracy': 0.6145251396648045}\n",
            "{'weights': array([-111.04030262,  -78.11673826,  -92.8019526 ]), 'bias': 128.44433662346188, 'learning_rate': 0.5, 'iteration': 1000, 'accuracy': 0.7932960893854749}\n",
            "{'weights': array([-123.05606354, -143.08633055, -123.16614968]), 'bias': 97.48857334330228, 'learning_rate': 0.5, 'iteration': 1500, 'accuracy': 0.7318435754189944}\n",
            "{'weights': array([-0.48944567, -8.10521835, -4.32046618]), 'bias': 6.247959723593102, 'learning_rate': 0.05, 'iteration': 10, 'accuracy': 0.7877094972067039}\n",
            "{'weights': array([ -6.53615862, -10.01135558,  -5.74512395]), 'bias': 10.627019960059922, 'learning_rate': 0.05, 'iteration': 50, 'accuracy': 0.7877094972067039}\n",
            "{'weights': array([-8.71830005, -3.93080454, -4.65316685]), 'bias': 12.808169606698915, 'learning_rate': 0.05, 'iteration': 100, 'accuracy': 0.39664804469273746}\n",
            "{'weights': array([-8.88780763, -6.80022133, -5.4326115 ]), 'bias': 14.87294996093307, 'learning_rate': 0.05, 'iteration': 200, 'accuracy': 0.5698324022346368}\n",
            "{'weights': array([-9.63113131, -8.35941547, -4.7851153 ]), 'bias': 14.879499776211997, 'learning_rate': 0.05, 'iteration': 500, 'accuracy': 0.6927374301675978}\n",
            "{'weights': array([-11.02007115, -11.80361347,  -7.90917257]), 'bias': 9.573432327319326, 'learning_rate': 0.05, 'iteration': 1000, 'accuracy': 0.776536312849162}\n",
            "{'weights': array([-12.02705459, -11.12232816, -10.72854266]), 'bias': 6.706688297238536, 'learning_rate': 0.05, 'iteration': 1500, 'accuracy': 0.7039106145251397}\n",
            "{'weights': array([ 0.0505936 , -1.50431883, -0.7076915 ]), 'bias': 0.7527242220924895, 'learning_rate': 0.005, 'iteration': 10, 'accuracy': 0.7877094972067039}\n",
            "{'weights': array([-0.46936576, -2.34857503, -1.60350891]), 'bias': 2.101998027027433, 'learning_rate': 0.005, 'iteration': 50, 'accuracy': 0.7877094972067039}\n",
            "{'weights': array([-1.28881307, -2.45570233, -1.90573665]), 'bias': 2.676150470811977, 'learning_rate': 0.005, 'iteration': 100, 'accuracy': 0.7932960893854749}\n",
            "{'weights': array([-2.28869086, -2.50622571, -2.13583802]), 'bias': 3.2287254099241496, 'learning_rate': 0.005, 'iteration': 200, 'accuracy': 0.7988826815642458}\n",
            "{'weights': array([-3.12946374, -2.55825922, -2.32531423]), 'bias': 3.693278831527823, 'learning_rate': 0.005, 'iteration': 500, 'accuracy': 0.7877094972067039}\n",
            "{'weights': array([-3.25367724, -2.56724466, -2.35394058]), 'bias': 3.7629123843085766, 'learning_rate': 0.005, 'iteration': 1000, 'accuracy': 0.7821229050279329}\n",
            "{'weights': array([-3.25833831, -2.567588  , -2.35501785]), 'bias': 3.7655301759569046, 'learning_rate': 0.005, 'iteration': 1500, 'accuracy': 0.7821229050279329}\n"
          ]
        }
      ]
    },
    {
      "cell_type": "markdown",
      "source": [
        "## best hyperparameters"
      ],
      "metadata": {
        "id": "vGBinf32zHd9"
      }
    },
    {
      "cell_type": "code",
      "source": [
        "arg = np.argmax([i[\"accuracy\"] for i in logs])\n",
        "logs[arg]"
      ],
      "metadata": {
        "colab": {
          "base_uri": "https://localhost:8080/"
        },
        "id": "BTKBAAK6oG0M",
        "outputId": "c24bcd78-fdca-4acc-a404-e61cc3368817"
      },
      "execution_count": null,
      "outputs": [
        {
          "output_type": "execute_result",
          "data": {
            "text/plain": [
              "{'weights': array([-2.29849544, -2.50677224, -2.13805426]),\n",
              " 'bias': 3.2341262859402917,\n",
              " 'learning_rate': 0.01,\n",
              " 'iteration': 100,\n",
              " 'accuracy': 0.7988826815642458}"
            ]
          },
          "metadata": {},
          "execution_count": 26
        }
      ]
    },
    {
      "cell_type": "markdown",
      "source": [
        "## training the model with `train + val` set and testing on `test` set"
      ],
      "metadata": {
        "id": "jtmdix-6ykl3"
      }
    },
    {
      "cell_type": "code",
      "source": [
        "weights, w_0, _ = gradient_ascent(np.concatenate((X_train, X_val), axis=0), \\\n",
        "                                  np.concatenate((y_train, y_val), axis=0), \\\n",
        "                                  logs[arg][\"learning_rate\"], \\\n",
        "                                  logs[arg][\"iteration\"])\n",
        "\n",
        "y_pred = test(X_test, w_0, weights)\n",
        "\n",
        "print(classification_report(y_test, y_pred))\n",
        "sns.heatmap(confusion_matrix(y_test, y_pred), annot=True, robust=True, fmt='g')"
      ],
      "metadata": {
        "colab": {
          "base_uri": "https://localhost:8080/",
          "height": 439
        },
        "id": "_ewe_8NSsBBn",
        "outputId": "a494d04d-772d-4a46-96b4-dc70cc4f6df5"
      },
      "execution_count": null,
      "outputs": [
        {
          "output_type": "stream",
          "name": "stdout",
          "text": [
            "              precision    recall  f1-score   support\n",
            "\n",
            "           0       0.88      0.79      0.83       110\n",
            "           1       0.71      0.82      0.76        68\n",
            "\n",
            "    accuracy                           0.80       178\n",
            "   macro avg       0.79      0.81      0.80       178\n",
            "weighted avg       0.81      0.80      0.81       178\n",
            "\n"
          ]
        },
        {
          "output_type": "execute_result",
          "data": {
            "text/plain": [
              "<matplotlib.axes._subplots.AxesSubplot at 0x7fbe877ac760>"
            ]
          },
          "metadata": {},
          "execution_count": 27
        },
        {
          "output_type": "display_data",
          "data": {
            "text/plain": [
              "<Figure size 432x288 with 2 Axes>"
            ],
            "image/png": "[encoded data removed]"
          },
          "metadata": {
            "needs_background": "light"
          }
        }
      ]
    }
  ]
}